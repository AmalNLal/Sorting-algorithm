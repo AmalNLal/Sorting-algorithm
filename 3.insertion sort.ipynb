{
 "cells": [
  {
   "cell_type": "code",
   "execution_count": null,
   "metadata": {},
   "outputs": [],
   "source": [
    "import matplotlib.pyplot as plt\n",
    "import random\n",
    "import time\n",
    "%matplotlib notebook"
   ]
  },
  {
   "cell_type": "code",
   "execution_count": null,
   "metadata": {},
   "outputs": [],
   "source": [
    "plt.rcParams[\"animation.html\"]=\"jshtml\"\n",
    "fig=plt.figure()\n",
    "ax=fig.add_subplot(1,1,1)\n",
    "fig.show()\n",
    "\n",
    "x=[]\n",
    "y=[]\n",
    "\n",
    "for i in range(100):\n",
    "    y.append(i)\n",
    "    x.append(random.randint(0,101))\n",
    "\n",
    "t=len(x)*len(x)\n",
    "\n",
    "for k in range(t):\n",
    "    for i in range (len(x)):\n",
    "        for j in range(i,-1,-1):\n",
    "            if x[j]>x[i]:\n",
    "                x[j],x[i]=x[i],x[j]\n",
    "            \n",
    "\n",
    "    ax.clear()\n",
    "    ax.bar(x,y,width=3)\n",
    "    ax.set_xlabel(\"Ordering\")\n",
    "    ax.set_ylabel(\"Elaments\")\n",
    "    fig.canvas.draw()\n",
    "plt.close()"
   ]
  },
  {
   "cell_type": "code",
   "execution_count": null,
   "metadata": {},
   "outputs": [],
   "source": []
  },
  {
   "cell_type": "code",
   "execution_count": null,
   "metadata": {},
   "outputs": [],
   "source": []
  }
 ],
 "metadata": {
  "kernelspec": {
   "display_name": "Python 3",
   "language": "python",
   "name": "python3"
  },
  "language_info": {
   "codemirror_mode": {
    "name": "ipython",
    "version": 3
   },
   "file_extension": ".py",
   "mimetype": "text/x-python",
   "name": "python",
   "nbconvert_exporter": "python",
   "pygments_lexer": "ipython3",
   "version": "3.8.2"
  }
 },
 "nbformat": 4,
 "nbformat_minor": 4
}
