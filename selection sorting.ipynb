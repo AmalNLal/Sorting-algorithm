{
 "cells": [
  {
   "cell_type": "code",
   "execution_count": 1,
   "metadata": {},
   "outputs": [],
   "source": [
    "import matplotlib.pyplot as plt"
   ]
  },
  {
   "cell_type": "code",
   "execution_count": 2,
   "metadata": {},
   "outputs": [],
   "source": [
    "x=[3,2,8,4,10,6,5,7,9,1]\n",
    "y=[1,2,3,4,5,6,7,8,9,10]\n",
    "#plt.plot(x,y)"
   ]
  },
  {
   "cell_type": "code",
   "execution_count": 3,
   "metadata": {},
   "outputs": [
    {
     "name": "stdout",
     "output_type": "stream",
     "text": [
      "[3, 2, 8, 4, 10, 6, 5, 7, 9, 1]\n",
      "[1, 2, 8, 4, 10, 6, 5, 7, 9, 3]\n",
      "[1, 2, 8, 4, 10, 6, 5, 7, 9, 3]\n",
      "[1, 2, 3, 4, 10, 6, 5, 7, 9, 8]\n",
      "[1, 2, 3, 4, 10, 6, 5, 7, 9, 8]\n",
      "[1, 2, 3, 4, 5, 6, 10, 7, 9, 8]\n",
      "[1, 2, 3, 4, 5, 6, 10, 7, 9, 8]\n",
      "[1, 2, 3, 4, 5, 6, 7, 10, 9, 8]\n",
      "[1, 2, 3, 4, 5, 6, 7, 8, 9, 10]\n",
      "[1, 2, 3, 4, 5, 6, 7, 8, 9, 10]\n"
     ]
    }
   ],
   "source": [
    "for i in range(len(x)):\n",
    "    if min(x)==x[i]:\n",
    "        pass\n",
    "    else:\n",
    "        print(x)\n",
    "        a=min(x[i:])\n",
    "        b=x.index(a)\n",
    "        x[b],x[i]=x[i],x[b]\n",
    "\n",
    "    "
   ]
  },
  {
   "cell_type": "code",
   "execution_count": null,
   "metadata": {},
   "outputs": [],
   "source": []
  },
  {
   "cell_type": "code",
   "execution_count": null,
   "metadata": {},
   "outputs": [],
   "source": []
  },
  {
   "cell_type": "code",
   "execution_count": null,
   "metadata": {},
   "outputs": [],
   "source": []
  }
 ],
 "metadata": {
  "kernelspec": {
   "display_name": "Python 3",
   "language": "python",
   "name": "python3"
  },
  "language_info": {
   "codemirror_mode": {
    "name": "ipython",
    "version": 3
   },
   "file_extension": ".py",
   "mimetype": "text/x-python",
   "name": "python",
   "nbconvert_exporter": "python",
   "pygments_lexer": "ipython3",
   "version": "3.8.2"
  }
 },
 "nbformat": 4,
 "nbformat_minor": 4
}
